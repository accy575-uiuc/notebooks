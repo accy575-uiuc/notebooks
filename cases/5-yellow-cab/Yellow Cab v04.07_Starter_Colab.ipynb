{
 "cells": [
  {
   "cell_type": "markdown",
   "metadata": {},
   "source": [
    "# Yellow Cab (Advisory Case for Accountants)\n",
    "Version 04.07 (**Modified for Google Colab**)"
   ]
  },
  {
   "cell_type": "markdown",
   "metadata": {},
   "source": [
    "**Author Information:**\n",
    "<br>Jessen Hobson, Ph.D. & Vic Anand, Ph.D.\n",
    "<br>Department of Accountancy – University of Illinois at Urbana-Champaign \n",
    "<br>(We thank The Deloitte Foundation for their generous financial support in preparation of this case.)"
   ]
  },
  {
   "cell_type": "markdown",
   "metadata": {},
   "source": [
    "▶️ Run the code cell below to import packages used in **🧭 Check Your Work** sections and by the autograder."
   ]
  },
  {
   "cell_type": "code",
   "execution_count": null,
   "metadata": {},
   "outputs": [],
   "source": [
    "# Required for intermediate checks and autograder scripts\n",
    "import unittest\n",
    "import os\n",
    "import glob\n",
    "tc = unittest.TestCase()"
   ]
  },
  {
   "cell_type": "markdown",
   "metadata": {},
   "source": [
    "▶️ Run the code cell below to import packages used in your analyses."
   ]
  },
  {
   "cell_type": "code",
   "execution_count": null,
   "metadata": {},
   "outputs": [],
   "source": [
    "import pandas as pd \n",
    "import numpy as np\n",
    "import statsmodels.formula.api as smf\n",
    "%matplotlib inline"
   ]
  },
  {
   "cell_type": "markdown",
   "metadata": {},
   "source": [
    "<div style=\"margin-top: 16px; height: 1px; border-top: 10px solid black;\"></div>\n",
    "\n",
    "## Before Getting Started"
   ]
  },
  {
   "cell_type": "markdown",
   "metadata": {},
   "source": [
    "---\n",
    "\n",
    "### 📌 Install Tableau"
   ]
  },
  {
   "cell_type": "markdown",
   "metadata": {},
   "source": [
    "- You will need a local copy of Tableau. Obtain a free license at [https://www.tableau.com/academic/students](https://www.tableau.com/academic/students) if your license from ACCY 570 has expired.\n",
    "- Obtain the license before starting the case to prevent delay since it can take 5-7 days to get your application approved."
   ]
  },
  {
   "cell_type": "markdown",
   "metadata": {},
   "source": [
    "<div style=\"margin-top: 16px; height: 1px; border-top: 10px solid black;\"></div>\n",
    "\n",
    "## 🔭 Part 1: Learning Objectives"
   ]
  },
  {
   "cell_type": "markdown",
   "metadata": {},
   "source": [
    "### Python\n",
    "* Store and access data via Pandas and CSV\n",
    "* Clean data in Pandas\n",
    "* Descriptive analytics\n",
    "* Predictive analytics using regression\n",
    "* Story telling from a business analytics point of view\n",
    "\n",
    "### Tableau\n",
    "* Descriptive analytics: Visualization via box plots, scatter plots, and maps\n",
    "* Story telling from a business analytics point of view"
   ]
  },
  {
   "cell_type": "markdown",
   "metadata": {},
   "source": [
    "<div style=\"margin-top: 16px; height: 1px; border-top: 10px solid black;\"></div>\n",
    "\n",
    "## ✨ Part 2: Introduction"
   ]
  },
  {
   "cell_type": "markdown",
   "metadata": {},
   "source": [
    "Yellow Cab Chicago has hired your small accounting and consulting firm to help them reduce costs and increase revenues. Like many traditional cab companies, Yellow Cab is feeling significant pressure from ride-hailing companies like Lyft and Uber. You are a recent graduate and new to the firm and are excited to learn you will have a role in this engagement. Your excitement quickly turns to apprehension, however, when the partner pulls you into her office.\n",
    "\n",
    "\"Thanks for meeting with me,\" she says. \"This new engagement is really important to the firm, and I am happy you are on board. I heard that you have some data analytics skills. I would like you to see if there is any data out there that might help us learn more about the situation Yellow Cab is in and if there are any interesting revenue opportunities out there that we have not thought of. We need to know more about what Yellow Cab is facing and were they should be focusing their efforts?\"\n",
    "\n",
    "You are a little overwhelmed, but after a quick internet search you find out that the [city of Chicago makes a lot of data about cab trips publicly available](https://data.cityofchicago.org/Transportation/Taxi-Trips-2020/r2u4-wwk3). This is just what you need!"
   ]
  },
  {
   "cell_type": "markdown",
   "metadata": {},
   "source": [
    "<div style=\"margin-top: 16px; height: 1px; border-top: 10px solid black;\"></div>\n",
    "\n",
    "## 🔬 Part 3: Load and Look at the Data"
   ]
  },
  {
   "cell_type": "markdown",
   "metadata": {},
   "source": [
    "---\n",
    "\n",
    "### 🎯 Part 3A: Read the CSV files into Pandas DataFrames"
   ]
  },
  {
   "cell_type": "markdown",
   "metadata": {},
   "source": [
    "▶️ Run the code cell below to read the dataset into a DataFrame named `df`."
   ]
  },
  {
   "cell_type": "code",
   "execution_count": null,
   "metadata": {},
   "outputs": [],
   "source": [
    "# YOUR CODE BEGINS\n",
    "df = pd.read_csv('https://github.com/accy575-uiuc/datasets/blob/main/yellow-cab-case/chicago-taxi-trips-2020.csv.gz?raw=true',\n",
    "                  compression='gzip')\n",
    "# YOUR CODE ENDS\n",
    "\n",
    "df.head(5)"
   ]
  },
  {
   "cell_type": "markdown",
   "metadata": {},
   "source": [
    "#### 🧭 Check Your Work\n",
    "\n",
    "- Once you're done, run the code cell below to test correctness.\n",
    "- ✔️ <span style=\"color: green;\">If the code cell runs without an error, you're good to move on.</span>\n",
    "- ❌ <span style=\"color: red;\">If the code cell throws an error, go back and fix incorrect parts.</span>"
   ]
  },
  {
   "cell_type": "code",
   "execution_count": null,
   "metadata": {},
   "outputs": [],
   "source": [
    "tc.assertEqual(df.shape, (500000, 19), 'Number of rows and columns must match the original CSV file')\n",
    "tc.assertEqual(df.columns.tolist(), ['trip_id', 'taxi_id', 'fare', 'tolls', 'extras',\n",
    "    'tips', 'trip_total', 'payment_type', 'trip_seconds', 'trip_miles', 'trip_start_timestamp',\n",
    "    'trip_end_timestamp', 'pickup_community_area', 'dropoff_community_area', 'pickup_centroid_latitude',\n",
    "    'pickup_centroid_longitude', 'dropoff_centroid_latitude', 'dropoff_centroid_longitude', 'company'], \n",
    "    'Column names must match the original CSV file')"
   ]
  },
  {
   "cell_type": "markdown",
   "metadata": {},
   "source": [
    "---\n",
    "\n",
    "### 🎯 Part 3B: Find the number of rows and columns in the dataset"
   ]
  },
  {
   "cell_type": "markdown",
   "metadata": {},
   "source": [
    "#### 👇 Tasks\n",
    "\n",
    "- ✔️ Store the number of rows in `df` to a new variable named `num_rows`.\n",
    "- ✔️ Store the number of columns in `df` to a new variable named `num_cols`.\n",
    "- ✔️ Both `num_rows` and `num_cols` must be `int`s."
   ]
  },
  {
   "cell_type": "code",
   "execution_count": null,
   "metadata": {},
   "outputs": [],
   "source": [
    "# YOUR CODE BEGINS\n",
    "\n",
    "\n",
    "# YOUR CODE ENDS\n",
    "\n",
    "print(f'There are {num_rows} rows and {num_cols} columns in the dataset.')"
   ]
  },
  {
   "cell_type": "markdown",
   "metadata": {},
   "source": [
    "#### 🧭 Check Your Work\n",
    "\n",
    "- Once you're done, run the code cell below to test correctness.\n",
    "- ✔️ <span style=\"color: green;\">If the code cell runs without an error, you're good to move on.</span>\n",
    "- ❌ <span style=\"color: red;\">If the code cell throws an error, go back and fix incorrect parts.</span>"
   ]
  },
  {
   "cell_type": "code",
   "execution_count": null,
   "metadata": {},
   "outputs": [],
   "source": [
    "tc.assertEqual(num_rows, 500000, f'Number of rows should be {500000}')\n",
    "tc.assertEqual(num_cols, 19, f'Number of columns should be {19}')"
   ]
  },
  {
   "cell_type": "markdown",
   "metadata": {},
   "source": [
    "---\n",
    "\n",
    "### 🎯 Part 3C: Concise summary of the dataset"
   ]
  },
  {
   "cell_type": "markdown",
   "metadata": {},
   "source": [
    "#### 👇 Tasks\n",
    "\n",
    "- ✔️ Use the `info()` method to print out a concise summary of `df`."
   ]
  },
  {
   "cell_type": "markdown",
   "metadata": {},
   "source": [
    "#### 🚀 Hint\n",
    "\n",
    "- `my_dataframe.info()` prints out a concise summary of `my_dataframe`."
   ]
  },
  {
   "cell_type": "code",
   "execution_count": null,
   "metadata": {},
   "outputs": [],
   "source": [
    "# YOUR CODE BEGINS\n",
    "\n",
    "# YOUR CODE ENDS"
   ]
  },
  {
   "cell_type": "markdown",
   "metadata": {},
   "source": [
    "---\n",
    "\n",
    "### 🎯 Part 3D: ✏️ Do any columns have null values?"
   ]
  },
  {
   "cell_type": "markdown",
   "metadata": {},
   "source": [
    "#### 👇 Tasks\n",
    "\n",
    "- ✔️ In the markdown cell below, briefly discuss whether any of the DataFrame columns have null values (missing values).\n",
    "- ✔️ If there are columns that contain null values, which ones are they?\n",
    "- ✔️ **(Optional)** You can add a code cell to find columns with missing values programmatically."
   ]
  },
  {
   "cell_type": "markdown",
   "metadata": {},
   "source": [
    "<p style=\"color: blue;\">\n",
    "YOUR RESPONSE HERE\n",
    "</p>"
   ]
  },
  {
   "cell_type": "markdown",
   "metadata": {
    "deletable": false,
    "editable": false
   },
   "source": [
    "---\n",
    "\n",
    "### 🎯 Part 3E: ✏️ Potentially interesting columns"
   ]
  },
  {
   "cell_type": "markdown",
   "metadata": {},
   "source": [
    "▶️ Run the code cell below to randomly sample 5 rows from `df`."
   ]
  },
  {
   "cell_type": "code",
   "execution_count": null,
   "metadata": {},
   "outputs": [],
   "source": [
    "df.sample(5)"
   ]
  },
  {
   "cell_type": "markdown",
   "metadata": {},
   "source": [
    "#### 👇 Tasks\n",
    "\n",
    "- ✔️ In the markdown cell below, discuss the following in less than 5 sentences:\n",
    "    1. Which column(s) seem most interesting for analysis?\n",
    "    2. What are you going to have to do to clean them?\n",
    "- ✔️ This is an open-ended question. There is no right or wrong answers."
   ]
  },
  {
   "cell_type": "markdown",
   "metadata": {},
   "source": [
    "<p style=\"color: blue;\">\n",
    "YOUR RESPONSE HERE\n",
    "</p>"
   ]
  },
  {
   "cell_type": "markdown",
   "metadata": {
    "deletable": false,
    "editable": false
   },
   "source": [
    "---\n",
    "\n",
    "### 🎯 Part 3F: Add `fare`, `tolls`, `extras`, and `tips`"
   ]
  },
  {
   "cell_type": "markdown",
   "metadata": {},
   "source": [
    "The column `trip_total` is the total amount paid by the customer to the taxi driver. According to the data source ([Chicago Data Portal Taxi Trips 2020](https://data.cityofchicago.org/Transportation/Taxi-Trips-2020/r2u4-wwk3)), `fare`, `tolls`, `extras`, and `tips` should add up to `trip_total`. Your goal is to check whether the values add up perfectly or not."
   ]
  },
  {
   "cell_type": "markdown",
   "metadata": {},
   "source": [
    "| Column Name  | Description                                                        |\n",
    "|--------------|--------------------------------------------------------------------|\n",
    "| `fare`       | The fare for the trip                                              |\n",
    "| `tolls`      | The tolls for the trip                                             |\n",
    "| `extras`     | Extra charges for the trip                                         |\n",
    "| `tips`       | The tip for the trip - cash tips generally will not be recorded    |\n",
    "| `trip_total` | Total cost of the trip, **the total of the previous four columns** |"
   ]
  },
  {
   "cell_type": "markdown",
   "metadata": {},
   "source": [
    "▶️ Run the code cell below to randomly sample 10 rows from `df` with the 5 columns listed above."
   ]
  },
  {
   "cell_type": "code",
   "execution_count": null,
   "metadata": {},
   "outputs": [],
   "source": [
    "df.sample(10)[['fare', 'tolls', 'extras', 'tips', 'trip_total']]"
   ]
  },
  {
   "cell_type": "markdown",
   "metadata": {},
   "source": [
    "#### 👇 Tasks\n",
    "\n",
    "- ✔️ Find the mean absolute difference between `trip_total` and `fare + tolls + extras + tips`.\n",
    "- ✔️ Store the result to a new variable named `trip_total_mean_diff`.\n",
    "- ✔️ `trip_total_mean_diff` should be a `float`-type.\n",
    "- ✔️ Your `df` should remain unaltered after your code runs.\n",
    "    - If you create a new column for calculation, make sure to drop it back.\n",
    "    - You can calculate the mean absolute difference without creating a new column. Refer to the steps described in the **🚀 Hints** section below."
   ]
  },
  {
   "cell_type": "markdown",
   "metadata": {},
   "source": [
    "#### 🚀 Hints\n",
    "\n",
    "1. Assume columns `A`, `B`, `C` are all numeric columns in a DataFrame named `df`.\n",
    "2. Calculate the difference between `A` and `B + C` using `df['A'] - (df['B'] + df['C'])`. This returns a `Series` of differences (numbers).\n",
    "3. Convert all values in the `Series` to absolute values using `my_series.abs()`.\n",
    "4. Finally, take the mean of the `Series` using `my_series.mean()`. This value is the mean absolute difference.\n",
    "5. In one liner, the code would be `(df['A'] - (df['B'] + df['C'])).abs().mean()`."
   ]
  },
  {
   "cell_type": "code",
   "execution_count": null,
   "metadata": {},
   "outputs": [],
   "source": [
    "# YOUR CODE BEGINS\n",
    "\n",
    "# YOUR CODE ENDS\n",
    "\n",
    "print(f'The mean absolute difference between trip_total and fare + tolls + extras + tips is ${trip_total_mean_diff:.3f}.')"
   ]
  },
  {
   "cell_type": "markdown",
   "metadata": {},
   "source": [
    "#### 🧭 Check Your Work\n",
    "\n",
    "- Once you're done, run the code cell below to test correctness.\n",
    "- ✔️ <span style=\"color: green;\">If the code cell runs without an error, you're good to move on.</span>\n",
    "- ❌ <span style=\"color: red;\">If the code cell throws an error, go back and fix incorrect parts.</span>"
   ]
  },
  {
   "cell_type": "code",
   "execution_count": null,
   "metadata": {},
   "outputs": [],
   "source": [
    "tc.assertEqual(df.shape, (500000, 19), 'You should not modify df (e.g., add columns) in this part')\n",
    "tc.assertAlmostEqual(trip_total_mean_diff, 0.10755801440909508)"
   ]
  },
  {
   "cell_type": "markdown",
   "metadata": {},
   "source": [
    "<div style=\"margin-top: 16px; height: 1px; border-top: 10px solid black;\"></div>\n",
    "\n",
    "## 🚿 Part 4: Clean Data"
   ]
  },
  {
   "cell_type": "markdown",
   "metadata": {},
   "source": [
    "---\n",
    "\n",
    "### 🎯 Part 4A: Delete trips with missing duration or mileage information"
   ]
  },
  {
   "cell_type": "markdown",
   "metadata": {},
   "source": [
    "#### 👇 Tasks\n",
    "\n",
    "- ✔️ From `df`, delete rows with a missing value in either `trip_seconds` or `trip_miles` columns.\n",
    "- ✔️ Update `df` directly without creating a new `DataFrame`."
   ]
  },
  {
   "cell_type": "markdown",
   "metadata": {},
   "source": [
    "#### 🚀 Hint\n",
    "\n",
    "- Remember `df.dropna(subset=['col1', 'col2'], inplace=...)`?"
   ]
  },
  {
   "cell_type": "code",
   "execution_count": null,
   "metadata": {},
   "outputs": [],
   "source": [
    "# YOUR CODE BEGINS\n",
    "\n",
    "# YOUR CODE ENDS\n",
    "\n",
    "print(f'{df.shape[0]} rows remaining after dropping rows with missing trip_seconds or trip_miles')"
   ]
  },
  {
   "cell_type": "markdown",
   "metadata": {},
   "source": [
    "#### 🧭 Check Your Work\n",
    "\n",
    "- Once you're done, run the code cell below to test correctness.\n",
    "- ✔️ <span style=\"color: green;\">If the code cell runs without an error, you're good to move on.</span>\n",
    "- ❌ <span style=\"color: red;\">If the code cell throws an error, go back and fix incorrect parts.</span>"
   ]
  },
  {
   "cell_type": "code",
   "execution_count": null,
   "metadata": {},
   "outputs": [],
   "source": [
    "tc.assertEqual(df[['trip_seconds', 'trip_miles']].isna().sum().sum(), 0,\n",
    "               'There are one or more rows with missing value(s) in trip_seconds or trip_miles')"
   ]
  },
  {
   "cell_type": "markdown",
   "metadata": {},
   "source": [
    "---\n",
    "\n",
    "### 🎯 Part 4B: Remove missing or zero `trip_total`"
   ]
  },
  {
   "cell_type": "markdown",
   "metadata": {},
   "source": [
    "#### 👇 Tasks\n",
    "\n",
    "- ✔️ From `df`, remove rows where `trip_total` is missing (`NaN`).\n",
    "- ✔️ Also remove rows where `trip_total` is less than or equal to zero (`0`).\n",
    "- ✔️ Update `df` directly without creating a new `DataFrame`."
   ]
  },
  {
   "cell_type": "code",
   "execution_count": null,
   "metadata": {},
   "outputs": [],
   "source": [
    "# YOUR CODE BEGINS\n",
    "\n",
    "\n",
    "\n",
    "\n",
    "# YOUR CODE ENDS\n",
    "\n",
    "print(f'{df.shape[0]} rows remaining after filtering positive trip_total values')"
   ]
  },
  {
   "cell_type": "markdown",
   "metadata": {},
   "source": [
    "#### 🧭 Check Your Work\n",
    "\n",
    "- Once you're done, run the code cell below to test correctness.\n",
    "- ✔️ <span style=\"color: green;\">If the code cell runs without an error, you're good to move on.</span>\n",
    "- ❌ <span style=\"color: red;\">If the code cell throws an error, go back and fix incorrect parts.</span>"
   ]
  },
  {
   "cell_type": "code",
   "execution_count": null,
   "metadata": {},
   "outputs": [],
   "source": [
    "# Ensure df is a copy, not a view\n",
    "df = df.copy()\n",
    "\n",
    "tc.assertEqual(df['trip_total'].isna().sum() + (df['trip_total'] <= 0).sum(), 0,\n",
    "               'There are one or more rows with a missing value or zero in trip_total')"
   ]
  },
  {
   "cell_type": "markdown",
   "metadata": {},
   "source": [
    "---\n",
    "\n",
    "### 🎯 Part 4C: Parse datetime-looking string columns"
   ]
  },
  {
   "cell_type": "markdown",
   "metadata": {},
   "source": [
    "▶️ Run the code cell below to check the data types of `trip_start_timestamp` and `trip_end_timestamp` columns."
   ]
  },
  {
   "cell_type": "code",
   "execution_count": null,
   "metadata": {},
   "outputs": [],
   "source": [
    "display(df[['trip_start_timestamp', 'trip_end_timestamp']].head(2))\n",
    "display(df[['trip_start_timestamp', 'trip_end_timestamp']].dtypes)"
   ]
  },
  {
   "cell_type": "markdown",
   "metadata": {},
   "source": [
    "Both columns are `object` types. Your goal is to parse both columns as datetime objects and store them to new columns."
   ]
  },
  {
   "cell_type": "markdown",
   "metadata": {},
   "source": [
    "#### 👇 Tasks\n",
    "\n",
    "- ✔️ Parse `trip_start_timestamp` column as datetime objects.\n",
    "    - Store the result to a new column named `trip_start`.\n",
    "- ✔️ Parse `trip_end_timestamp` column as datetime objects.\n",
    "    - Store the result to a new column named `trip_end`."
   ]
  },
  {
   "cell_type": "markdown",
   "metadata": {},
   "source": [
    "#### 🚀 Hint\n",
    "\n",
    "- Use `pd.to_datetime()`."
   ]
  },
  {
   "cell_type": "code",
   "execution_count": null,
   "metadata": {},
   "outputs": [],
   "source": [
    "# YOUR CODE BEGINS\n",
    "\n",
    "\n",
    "\n",
    "\n",
    "\n",
    "\n",
    "\n",
    "\n",
    "# YOUR CODE ENDS\n",
    "\n",
    "df[['trip_start_timestamp', 'trip_start', 'trip_end_timestamp', 'trip_end']].sample(5)"
   ]
  },
  {
   "cell_type": "markdown",
   "metadata": {},
   "source": [
    "#### 🧭 Check Your Work\n",
    "\n",
    "- Once you're done, run the code cell below to test correctness.\n",
    "- ✔️ <span style=\"color: green;\">If the code cell runs without an error, you're good to move on.</span>\n",
    "- ❌ <span style=\"color: red;\">If the code cell throws an error, go back and fix incorrect parts.</span>"
   ]
  },
  {
   "cell_type": "code",
   "execution_count": null,
   "metadata": {},
   "outputs": [],
   "source": [
    "# Check whether trip_start and trip_end columns are datetime types\n",
    "tc.assertIn('trip_start', df.select_dtypes(include=[np.datetime64]).columns,\n",
    "              'trip_start column must contain datetime values')\n",
    "tc.assertIn('trip_end', df.select_dtypes(include=[np.datetime64]).columns,\n",
    "              'trip_end column must contain datetime values')\n",
    "\n",
    "# Check parsed result in trip_start\n",
    "tc.assertEqual(df.loc[df['trip_id'] == '3d138247d2', 'trip_start'].iloc[0], pd.to_datetime('01/14/2020 03:00:00 PM'))\n",
    "tc.assertEqual(df.loc[df['trip_id'] == 'd9e523bdf7', 'trip_start'].iloc[0], pd.to_datetime('02/12/2020 01:45:00 PM'))\n",
    "tc.assertEqual(df.loc[df['trip_id'] == '2b016f4842', 'trip_start'].iloc[0], pd.to_datetime('03/06/2020 11:30:00 AM'))\n",
    "tc.assertEqual(df.loc[df['trip_id'] == '847a2013ad', 'trip_start'].iloc[0], pd.to_datetime('03/15/2020 03:00:00 PM'))\n",
    "tc.assertEqual(df.loc[df['trip_id'] == '426e382ec3', 'trip_start'].iloc[0], pd.to_datetime('06/16/2020 08:00:00 AM'))\n",
    "tc.assertEqual(df.loc[df['trip_id'] == 'dee8a3fcb5', 'trip_start'].iloc[0], pd.to_datetime('07/10/2020 07:00:00 PM'))\n",
    "tc.assertEqual(df.loc[df['trip_id'] == '1f4f6af766', 'trip_start'].iloc[0], pd.to_datetime('09/27/2020 03:15:00 PM'))\n",
    "tc.assertEqual(df.loc[df['trip_id'] == '16949c19d7', 'trip_start'].iloc[0], pd.to_datetime('10/31/2020 08:00:00 AM'))\n",
    "tc.assertEqual(df.loc[df['trip_id'] == '840d3adda2', 'trip_start'].iloc[0], pd.to_datetime('12/14/2020 08:00:00 PM'))\n",
    "\n",
    "# Check parsed result in trip_end\n",
    "tc.assertEqual(df.loc[df['trip_id'] == '3d138247d2', 'trip_end'].iloc[0], pd.to_datetime('01/14/2020 03:00:00 PM'))\n",
    "tc.assertEqual(df.loc[df['trip_id'] == 'd9e523bdf7', 'trip_end'].iloc[0], pd.to_datetime('02/12/2020 02:30:00 PM'))\n",
    "tc.assertEqual(df.loc[df['trip_id'] == '2b016f4842', 'trip_end'].iloc[0], pd.to_datetime('03/06/2020 11:45:00 AM'))\n",
    "tc.assertEqual(df.loc[df['trip_id'] == '847a2013ad', 'trip_end'].iloc[0], pd.to_datetime('03/15/2020 03:00:00 PM'))\n",
    "tc.assertEqual(df.loc[df['trip_id'] == '426e382ec3', 'trip_end'].iloc[0], pd.to_datetime('06/16/2020 08:00:00 AM'))\n",
    "tc.assertEqual(df.loc[df['trip_id'] == 'dee8a3fcb5', 'trip_end'].iloc[0], pd.to_datetime('07/10/2020 07:15:00 PM'))\n",
    "tc.assertEqual(df.loc[df['trip_id'] == '1f4f6af766', 'trip_end'].iloc[0], pd.to_datetime('09/27/2020 03:45:00 PM'))\n",
    "tc.assertEqual(df.loc[df['trip_id'] == '16949c19d7', 'trip_end'].iloc[0], pd.to_datetime('10/31/2020 08:30:00 AM'))\n",
    "tc.assertEqual(df.loc[df['trip_id'] == '840d3adda2', 'trip_end'].iloc[0], pd.to_datetime('12/14/2020 08:15:00 PM'))"
   ]
  },
  {
   "cell_type": "markdown",
   "metadata": {},
   "source": [
    "---\n",
    "\n",
    "### 🎯 Part 4D: Remove columns"
   ]
  },
  {
   "cell_type": "markdown",
   "metadata": {},
   "source": [
    "#### 👇 Tasks\n",
    "\n",
    "- ✔️ Drop `trip_start_timestamp` and `trip_end_timestamp` columns from `df`.\n",
    "- ✔️ Directly update `df` without creating a new variable."
   ]
  },
  {
   "cell_type": "code",
   "execution_count": null,
   "metadata": {},
   "outputs": [],
   "source": [
    "# YOUR CODE BEGINS\n",
    "\n",
    "# YOUR CODE ENDS\n",
    "\n",
    "display(df.head(3))"
   ]
  },
  {
   "cell_type": "markdown",
   "metadata": {},
   "source": [
    "#### 🧭 Check Your Work\n",
    "\n",
    "- Once you're done, run the code cell below to test correctness.\n",
    "- ✔️ <span style=\"color: green;\">If the code cell runs without an error, you're good to move on.</span>\n",
    "- ❌ <span style=\"color: red;\">If the code cell throws an error, go back and fix incorrect parts.</span>"
   ]
  },
  {
   "cell_type": "code",
   "execution_count": null,
   "metadata": {},
   "outputs": [],
   "source": [
    "# Check whether trip_start and trip_end columns are datetime types\n",
    "tc.assertNotIn('trip_start_timestamp', df.columns)\n",
    "tc.assertNotIn('trip_end_timestamp', df.columns)"
   ]
  },
  {
   "cell_type": "markdown",
   "metadata": {},
   "source": [
    "---\n",
    "\n",
    "### 🎯 Part 4E: Extract month, day, hour, and weekday"
   ]
  },
  {
   "cell_type": "markdown",
   "metadata": {},
   "source": [
    "#### 👇 Tasks\n",
    "\n",
    "- ✔️ Using the `trip_start` column, extract and create the following 4 columns:\n",
    "    1. `month`: Month as integer (e.g., `1`, `6`, `12`)\n",
    "    2. `day`: Day of month as integer (e.g., `4`, `28`, `31`)\n",
    "    3. `hour`: Hour of the day as integer (e.g., `2`, `13`, `23`)\n",
    "    4. `dayofweek`: Day of the week as integer (e.g., `0` for Monday, `6` for Sunday)"
   ]
  },
  {
   "cell_type": "markdown",
   "metadata": {},
   "source": [
    "#### 🚀 Hint\n",
    "\n",
    "- Assuming `my_datetime_series` is a `Series` containing `datetime` objects, `my_datetime_series.dt.month` returns the months as integers."
   ]
  },
  {
   "cell_type": "code",
   "execution_count": null,
   "metadata": {},
   "outputs": [],
   "source": [
    "# YOUR CODE BEGINS\n",
    "\n",
    "\n",
    "\n",
    "\n",
    "# YOUR CODE ENDS\n",
    "\n",
    "df[['trip_id', 'trip_start', 'month', 'day', 'hour', 'dayofweek']].sample(5)"
   ]
  },
  {
   "cell_type": "markdown",
   "metadata": {},
   "source": [
    "#### 🧭 Check Your Work\n",
    "\n",
    "- Once you're done, run the code cell below to test correctness.\n",
    "- ✔️ <span style=\"color: green;\">If the code cell runs without an error, you're good to move on.</span>\n",
    "- ❌ <span style=\"color: red;\">If the code cell throws an error, go back and fix incorrect parts.</span>"
   ]
  },
  {
   "cell_type": "code",
   "execution_count": null,
   "metadata": {},
   "outputs": [],
   "source": [
    "# trip_id: 2cfe3b90f3, start_time: 2020-01-12 19:45:00\n",
    "tc.assertEqual(df.loc[df['trip_id'] == '2cfe3b90f3', 'month'].iloc[0], 1)\n",
    "tc.assertEqual(df.loc[df['trip_id'] == '2cfe3b90f3', 'day'].iloc[0], 12)\n",
    "tc.assertEqual(df.loc[df['trip_id'] == '2cfe3b90f3', 'hour'].iloc[0], 19)\n",
    "tc.assertEqual(df.loc[df['trip_id'] == '2cfe3b90f3', 'dayofweek'].iloc[0], 6)\n",
    "\n",
    "# trip_id: 3b354595f3, start_time: 2020-08-06 20:15:00\n",
    "tc.assertEqual(df.loc[df['trip_id'] == '3b354595f3', 'month'].iloc[0], 8)\n",
    "tc.assertEqual(df.loc[df['trip_id'] == '3b354595f3', 'day'].iloc[0], 6)\n",
    "tc.assertEqual(df.loc[df['trip_id'] == '3b354595f3', 'hour'].iloc[0], 20)\n",
    "tc.assertEqual(df.loc[df['trip_id'] == '3b354595f3', 'dayofweek'].iloc[0], 3)\n",
    "\n",
    "# trip_id: 9566181e32, start_time: 2020-11-21 22:30:00\n",
    "tc.assertEqual(df.loc[df['trip_id'] == '9566181e32', 'month'].iloc[0], 11)\n",
    "tc.assertEqual(df.loc[df['trip_id'] == '9566181e32', 'day'].iloc[0], 21)\n",
    "tc.assertEqual(df.loc[df['trip_id'] == '9566181e32', 'hour'].iloc[0], 22)\n",
    "tc.assertEqual(df.loc[df['trip_id'] == '9566181e32', 'dayofweek'].iloc[0], 5)\n",
    "\n",
    "# trip_id: cb510f7a83, start_time: 2020-02-08 13:15:00\n",
    "tc.assertEqual(df.loc[df['trip_id'] == 'cb510f7a83', 'month'].iloc[0], 2)\n",
    "tc.assertEqual(df.loc[df['trip_id'] == 'cb510f7a83', 'day'].iloc[0], 8)\n",
    "tc.assertEqual(df.loc[df['trip_id'] == 'cb510f7a83', 'hour'].iloc[0], 13)\n",
    "tc.assertEqual(df.loc[df['trip_id'] == 'cb510f7a83', 'dayofweek'].iloc[0], 5)\n",
    "\n",
    "# trip_id: 2828cb6942, start_time: 2020-01-10 10:15:00\n",
    "tc.assertEqual(df.loc[df['trip_id'] == '2828cb6942', 'month'].iloc[0], 1)\n",
    "tc.assertEqual(df.loc[df['trip_id'] == '2828cb6942', 'day'].iloc[0], 10)\n",
    "tc.assertEqual(df.loc[df['trip_id'] == '2828cb6942', 'hour'].iloc[0], 10)\n",
    "tc.assertEqual(df.loc[df['trip_id'] == '2828cb6942', 'dayofweek'].iloc[0], 4)\n",
    "\n",
    "# trip_id: 529cbb6825, start_time: 2020-01-18 05:30:00\n",
    "tc.assertEqual(df.loc[df['trip_id'] == '529cbb6825', 'month'].iloc[0], 1)\n",
    "tc.assertEqual(df.loc[df['trip_id'] == '529cbb6825', 'day'].iloc[0], 18)\n",
    "tc.assertEqual(df.loc[df['trip_id'] == '529cbb6825', 'hour'].iloc[0], 5)\n",
    "tc.assertEqual(df.loc[df['trip_id'] == '529cbb6825', 'dayofweek'].iloc[0], 5)"
   ]
  },
  {
   "cell_type": "markdown",
   "metadata": {},
   "source": [
    "---\n",
    "\n",
    "### 🎯 Part 4F: Check DataFrame"
   ]
  },
  {
   "cell_type": "markdown",
   "metadata": {},
   "source": [
    "You do not have to write any code in this part. Check whether the code below runs without an error. It ensures that your `df` has the correct column names and the correct number of rows."
   ]
  },
  {
   "cell_type": "markdown",
   "metadata": {},
   "source": [
    "#### 🧭 Check Your Work\n",
    "- ✔️ <span style=\"color: green;\">If the code cell runs without an error, you're good to move on.</span>\n",
    "- ❌ <span style=\"color: red;\">If the code cell throws an error, go back and fix incorrect parts.</span>"
   ]
  },
  {
   "cell_type": "code",
   "execution_count": null,
   "metadata": {},
   "outputs": [],
   "source": [
    "# Check missing columns\n",
    "cols_to_check = ['trip_id', 'taxi_id', 'fare', 'tolls', 'extras', 'tips', 'trip_total', 'payment_type',\n",
    "    'trip_seconds', 'trip_miles', 'pickup_community_area', 'dropoff_community_area', 'pickup_centroid_latitude',\n",
    "    'pickup_centroid_longitude', 'dropoff_centroid_latitude', 'dropoff_centroid_longitude', 'company',\n",
    "    'trip_start', 'trip_end', 'month', 'day', 'hour', 'dayofweek']\n",
    "\n",
    "for col_name in cols_to_check:\n",
    "    tc.assertIn(col_name, df.columns, f'Column {col_name} is missing')\n",
    "    \n",
    "# Check redundant columns\n",
    "cols_diff = set(df.columns) - set(cols_to_check)\n",
    "tc.assertFalse(bool(cols_diff), f\"Redundant columns found: {', '.join(cols_diff)}\")\n",
    "\n",
    "# Check number of rows\n",
    "tc.assertEqual(df.shape[0], 499015, 'Incorrect number of rows')"
   ]
  },
  {
   "cell_type": "markdown",
   "metadata": {},
   "source": [
    "<div style=\"margin-top: 16px; height: 1px; border-top: 10px solid black;\"></div>\n",
    "\n",
    "## 🪒 Part 5: Deal with Outliers of `trip_total`"
   ]
  },
  {
   "cell_type": "markdown",
   "metadata": {},
   "source": [
    "---\n",
    "\n",
    "The main focus in outliers is getting `trip_total` right, since you are trying to understand how Yellow Cab can make more money. `trip_seconds` and `trip_miles` also have outliers, which you could look at, but you will focus on `trip_total` and `tips`, since those are the key variables of interest. There is no one right way to find outliers. So, our approach will be to look at some plots of `trip_total` and `tips` to see if we have a problem with outliers for these columns and to see how to fix them. \n",
    "\n",
    "Specifically, you will first use box plots to look for outliers. Box plots are helpful for finding outliers because they display the distribution of the observations (the data) and, in one picture, display the minimum, first quartile, median, third quartile, and maximum. Thus, the graph is as high as the highest data point. The box extends from the Q1 (25% of the data) to Q3 (75% of the data) quartile values of the data, with a line at the median (Q2). The position of the whiskers is set by default to 1.5 * IQR (IQR = Q3 - Q1) from the edges of the box. Outlier points are those past the end of the whiskers (see useful picture here: http://www.physics.csbsju.edu/stats/box2.html). "
   ]
  },
  {
   "cell_type": "markdown",
   "metadata": {},
   "source": [
    "---\n",
    "\n",
    "### 🎯 Part 5A: Box plot of `trip_total`"
   ]
  },
  {
   "cell_type": "markdown",
   "metadata": {},
   "source": [
    "#### 👇 Tasks\n",
    "\n",
    "- ✔️ We will provide you the code for this one."
   ]
  },
  {
   "cell_type": "markdown",
   "metadata": {},
   "source": [
    "▶️ Run `df.boxplot(column='trip_total')` in the code cell below to draw a box plot using the `trip_total` column."
   ]
  },
  {
   "cell_type": "code",
   "execution_count": null,
   "metadata": {},
   "outputs": [],
   "source": [
    "# YOUR CODE BEGINS\n",
    "\n",
    "# YOUR CODE ENDS"
   ]
  },
  {
   "cell_type": "markdown",
   "metadata": {},
   "source": [
    "---\n",
    "\n",
    "### 🎯 Part 5B: Box plot of `tips`"
   ]
  },
  {
   "cell_type": "markdown",
   "metadata": {},
   "source": [
    "#### 👇 Tasks\n",
    "\n",
    "- ✔️ Draw a box plot using the `tips` column."
   ]
  },
  {
   "cell_type": "code",
   "execution_count": null,
   "metadata": {},
   "outputs": [],
   "source": [
    "# YOUR CODE BEGINS\n",
    "\n",
    "# YOUR CODE ENDS"
   ]
  },
  {
   "cell_type": "markdown",
   "metadata": {},
   "source": [
    "---\n",
    "\n",
    "### 🎯 Part 5C: ✏️ Interpret the box plots"
   ]
  },
  {
   "cell_type": "markdown",
   "metadata": {},
   "source": [
    "#### 👇 Tasks\n",
    "\n",
    "- ✔️ Using your box plots from Part 5A and 5B, discuss whether your `trip_total` and `tips` contain extreme outliers or not in the markdown cell below.\n",
    "- ✔️ Use a maximum of 3 sentences."
   ]
  },
  {
   "cell_type": "markdown",
   "metadata": {},
   "source": [
    "<p style=\"color: blue;\">\n",
    "YOUR RESPONSE HERE\n",
    "</p>"
   ]
  },
  {
   "cell_type": "markdown",
   "metadata": {
    "deletable": false,
    "editable": false
   },
   "source": [
    "#### 🚀 Hint\n",
    "\n",
    "The image below describes the effect of *extreme* outliers on box plots. Each small circle represents an outlier.\n",
    "\n",
    "![box plots and outliers](https://github.com/accy575-uiuc/images/blob/main/yellow-cab-case/box-plots-outliers-01.png?raw=true)"
   ]
  },
  {
   "cell_type": "markdown",
   "metadata": {},
   "source": [
    "---\n",
    "\n",
    "### 🎯 Part 5D: Box plot of `trip_total < 150`"
   ]
  },
  {
   "cell_type": "markdown",
   "metadata": {},
   "source": [
    "#### 👇 Tasks\n",
    "\n",
    "- ✔️ Draw a box plot using the `trip_total` column.\n",
    "- ✔️ This time, only use values less than \\\\$150."
   ]
  },
  {
   "cell_type": "code",
   "execution_count": null,
   "metadata": {},
   "outputs": [],
   "source": [
    "# YOUR CODE BEGINS\n",
    "\n",
    "# YOUR CODE ENDS"
   ]
  },
  {
   "cell_type": "markdown",
   "metadata": {},
   "source": [
    "---\n",
    "\n",
    "### 🎯 Part 5E: Box plot of `tips < 25`"
   ]
  },
  {
   "cell_type": "markdown",
   "metadata": {},
   "source": [
    "#### 👇 Tasks\n",
    "\n",
    "- ✔️ Draw a box plot using the `tips` column.\n",
    "- ✔️ This time, only use values less than $25."
   ]
  },
  {
   "cell_type": "code",
   "execution_count": null,
   "metadata": {},
   "outputs": [],
   "source": [
    "# YOUR CODE BEGINS\n",
    "\n",
    "# YOUR CODE ENDS"
   ]
  },
  {
   "cell_type": "markdown",
   "metadata": {},
   "source": [
    "---\n",
    "\n",
    "### 🎯 Part 5F: ✏️ Compare box plots before and after Cutoff"
   ]
  },
  {
   "cell_type": "markdown",
   "metadata": {},
   "source": [
    "#### 👇 Tasks\n",
    "\n",
    "- ✔️ Compare your box plots before and after setting cutoffs (`trip_total < 150` and `tips < 25`).\n",
    "    - `trip_total`: Compare box plot in 5A with the box plot in 5D.\n",
    "    - `tips`: Compare box plot in 5B with the box plot in 5E.\n",
    "- ✔️ Are the boxes and whiskers more visible (larger) once you set cutoffs?\n",
    "- ✔️ Write your response in the markdown cell below using in 1 or 2 sentences."
   ]
  },
  {
   "cell_type": "markdown",
   "metadata": {},
   "source": [
    "<p style=\"color: blue;\">\n",
    "YOUR RESPONSE HERE\n",
    "</p>"
   ]
  },
  {
   "cell_type": "markdown",
   "metadata": {
    "deletable": false,
    "editable": false
   },
   "source": [
    "---\n",
    "\n",
    "### 🎯 Part 5G: Mean and median of `trip_total`"
   ]
  },
  {
   "cell_type": "markdown",
   "metadata": {},
   "source": [
    "#### 👇 Tasks\n",
    "\n",
    "- ✔️ Calculate the mean of the `trip_total` column (without the \\\\$150 limit).\n",
    "    - Store the result to a new variable named `trip_total_mean`.\n",
    "- ✔️ Calculate the median of the `trip_total` column (without the \\\\$150 limit).\n",
    "    - Store the result to a new variable named `trip_total_median`."
   ]
  },
  {
   "cell_type": "code",
   "execution_count": null,
   "metadata": {},
   "outputs": [],
   "source": [
    "# YOUR CODE BEGINS\n",
    "\n",
    "\n",
    "# YOUR CODE ENDS\n",
    "\n",
    "print(f'[trip_total] mean: ${trip_total_mean:.1f}, median: ${trip_total_median:.1f}')"
   ]
  },
  {
   "cell_type": "markdown",
   "metadata": {
    "deletable": false,
    "editable": false
   },
   "source": [
    "---\n",
    "\n",
    "### 🎯 Part 5H: ✏️ Interpret mean and median of `trip_total`"
   ]
  },
  {
   "cell_type": "markdown",
   "metadata": {},
   "source": [
    "#### 👇 Tasks\n",
    "\n",
    "- ✔️ In the markdown cell below, answer the following two questions.\n",
    "    1. Are the mean and median of `trip_total` almost same or not?\n",
    "    2. What do the mean and median tell you about outliers?\n",
    "- ✔️ Write your response in 2 or 3 sentences."
   ]
  },
  {
   "cell_type": "markdown",
   "metadata": {},
   "source": [
    "<p style=\"color: blue;\">\n",
    "YOUR RESPONSE HERE\n",
    "</p>"
   ]
  },
  {
   "cell_type": "markdown",
   "metadata": {
    "deletable": false,
    "editable": false
   },
   "source": [
    "<div style=\"margin-top: 16px; height: 1px; border-top: 10px solid black;\"></div>\n",
    "\n",
    "## ⌛️ Part 6: Deal with Outliers of `trip_seconds`"
   ]
  },
  {
   "cell_type": "markdown",
   "metadata": {},
   "source": [
    "---\n",
    "\n",
    "Notice that you have focused on the variable `trip_total`. This is your main variable of interest since you are concerned with how Yellow Cab can make more money. However, it is possible that expensive trips take a considerable amount of time. Therefore, you might want to look at the distribution of trip duration. Do so using the variable `trip_seconds`. Notice that you have focused on the variable `trip_total`. This is your main variable of interest since you are concerned with how Yellow Cab can make more money. However, it is possible that expensive trips take a considerable amount of time. Therefore, you might want to look at the distribution of trip duration. Do so using the variable `trip_seconds`. "
   ]
  },
  {
   "cell_type": "markdown",
   "metadata": {},
   "source": [
    "---\n",
    "\n",
    "### 🎯 Part 6A: Mean and median of `trip_seconds`"
   ]
  },
  {
   "cell_type": "markdown",
   "metadata": {},
   "source": [
    "#### 👇 Tasks\n",
    "\n",
    "- ✔️ Calculate the mean of the `trip_seconds` column (using all rows).\n",
    "    - Convert the unit from seconds to minutes (e.g., mean of `600` seconds should be converted to `10`).\n",
    "    - Store the result to a new variable named `trip_all_duration_mean`.\n",
    "- ✔️ Calculate the median of the `trip_seconds` column (using all rows).\n",
    "    - Convert the unit from seconds to minutes (e.g., median of `600` seconds should be converted to `10`).\n",
    "    - Store the result to a new variable named `trip_all_duration_median`."
   ]
  },
  {
   "cell_type": "code",
   "execution_count": null,
   "metadata": {},
   "outputs": [],
   "source": [
    "# YOUR CODE BEGINS\n",
    "\n",
    "\n",
    "# YOUR CODE ENDS\n",
    "\n",
    "print(f'mean: {trip_all_duration_mean:.1f} minutes, median: {trip_all_duration_median:.1f} minutes')"
   ]
  },
  {
   "cell_type": "markdown",
   "metadata": {
    "deletable": false,
    "editable": false
   },
   "source": [
    "---\n",
    "\n",
    "### 🎯 Part 6B: ✏️ Interpret mean and median of `trip_seconds`"
   ]
  },
  {
   "cell_type": "markdown",
   "metadata": {},
   "source": [
    "#### 👇 Tasks\n",
    "\n",
    "- ✔️ In the markdown cell below, answer the following two questions.\n",
    "    1. Are the mean and median of `trip_seconds` almost same or not?\n",
    "    2. What do the mean and median tell you about outliers?\n",
    "- ✔️ Write your response in 2 or 3 sentences."
   ]
  },
  {
   "cell_type": "markdown",
   "metadata": {},
   "source": [
    "<p style=\"color: blue;\">\n",
    "YOUR RESPONSE HERE\n",
    "</p>"
   ]
  },
  {
   "cell_type": "markdown",
   "metadata": {
    "deletable": false,
    "editable": false
   },
   "source": [
    "---\n",
    "\n",
    "### 🎯 Part 6C: Box plot of `trip_seconds`"
   ]
  },
  {
   "cell_type": "markdown",
   "metadata": {},
   "source": [
    "#### 👇 Tasks\n",
    "\n",
    "- ✔️ Draw a box plot using the `trip_seconds` column."
   ]
  },
  {
   "cell_type": "code",
   "execution_count": null,
   "metadata": {},
   "outputs": [],
   "source": [
    "# YOUR CODE BEGINS\n",
    "\n",
    "# YOUR CODE ENDS"
   ]
  },
  {
   "cell_type": "markdown",
   "metadata": {},
   "source": [
    "---\n",
    "\n",
    "### 🎯 Part 6D: Box plot of `trip_seconds` with cutoff"
   ]
  },
  {
   "cell_type": "markdown",
   "metadata": {},
   "source": [
    "#### 👇 Tasks\n",
    "\n",
    "- ✔️ Draw a box plot using the `trip_seconds` column.\n",
    "- ✔️ This time, set lower and/or upper cutoffs using `trip_seconds`.\n",
    "    - **Example:** Draw a box plot of `trip_seconds` column with trips less than 40 minutes.\n",
    "- ✔️ While this is an open-ended question, your box and whiskers must be clearly visible."
   ]
  },
  {
   "cell_type": "code",
   "execution_count": null,
   "metadata": {},
   "outputs": [],
   "source": [
    "# YOUR CODE BEGINS\n",
    "\n",
    "# YOUR CODE ENDS"
   ]
  },
  {
   "cell_type": "markdown",
   "metadata": {},
   "source": [
    "---\n",
    "\n",
    "### 🎯 Part 6E: Mean and median of `trip_seconds` for trips shorter than 30 minutes"
   ]
  },
  {
   "cell_type": "markdown",
   "metadata": {},
   "source": [
    "#### 👇 Tasks\n",
    "\n",
    "- ✔️ Calculate the mean of the `trip_seconds` for trips shorter than 30 minutes.\n",
    "    - Convert the unit from seconds to minutes (e.g., mean of `600` seconds should be converted to `10`).\n",
    "    - Store the result to a new variable named `trip_subset_duration_mean`.\n",
    "- ✔️ Calculate the median of the `trip_seconds` for trips shorter than 30 minutes.\n",
    "    - Convert the unit from seconds to minutes (e.g., mean of `600` seconds should be converted to `10`).\n",
    "    - Store the result to a new variable named `trip_subset_duration_median`.\n",
    "- ⚠️ Trips that are exactly 30 minutes long should be excluded in your calculation."
   ]
  },
  {
   "cell_type": "code",
   "execution_count": null,
   "metadata": {},
   "outputs": [],
   "source": [
    "# YOUR CODE BEGINS\n",
    "\n",
    "\n",
    "# YOUR CODE ENDS\n",
    "\n",
    "print(f'mean: {trip_subset_duration_mean:.1f} minutes, median: {trip_subset_duration_median:.1f} minutes')"
   ]
  },
  {
   "cell_type": "markdown",
   "metadata": {
    "deletable": false,
    "editable": false
   },
   "source": [
    "---\n",
    "\n",
    "### 🎯 Part 6F: ✏️ Interpret mean and median of `trip_seconds` for trips shorter than 30 minutes"
   ]
  },
  {
   "cell_type": "markdown",
   "metadata": {},
   "source": [
    "#### 👇 Tasks\n",
    "\n",
    "- ✔️ Did the gap between mean and median widen or narrow after you set a cutoff of 30 minutes?\n",
    "- ✔️ Compare mean and median in Part 6A with those of Part 6E.\n",
    "- ✔️ Write your response in the markdown cell below using 1 or 2 sentences."
   ]
  },
  {
   "cell_type": "markdown",
   "metadata": {},
   "source": [
    "<p style=\"color: blue;\">\n",
    "YOUR RESPONSE HERE\n",
    "</p>"
   ]
  },
  {
   "cell_type": "markdown",
   "metadata": {
    "deletable": false,
    "editable": false
   },
   "source": [
    "<div style=\"margin-top: 16px; height: 1px; border-top: 10px solid black;\"></div>\n",
    "\n",
    "## ⚖️ Part 7: Compare two variables"
   ]
  },
  {
   "cell_type": "markdown",
   "metadata": {},
   "source": [
    "---\n",
    "\n",
    "Drawing box plots helped you get rid of some really high trip fares and some unreasonably long trips. What you really want is to keep all legitimate trips and eliminate mistakes. This is hard to do and you really should use more than one perspective to examine the issue. So, as a second way to examine outliers use a joint plot. Joint plots are plots of one variable against another. A scatter plot is an example of a joint plot with which you are probably familiar. These can be helpful because they can help us examine the relationship between two variables in our dataset. Consider `trip_total` and `trip_seconds`. How would you expect these to be related? \n",
    "\n",
    "You would expect the cost of the cab trip (`trip_total`) and the amount of the time the trip takes (`trip_seconds`) to be positively, linearly correlated. That is, as the trip duration increases the trip cost should also increase at an even rate. \n",
    "\n",
    "Next, you will look at some scatter plots of `trip_total` on the x-axis and `trip_seconds` on the y-axis. As you compare the cost of the trip to how long it took, you will learn something about trips that seem unreasonable. You will then finalize the dataset and save it for analysis."
   ]
  },
  {
   "cell_type": "markdown",
   "metadata": {},
   "source": [
    "---\n",
    "\n",
    "### 🎯 Part 7A: Scatter plot of `trip_seconds` by `trip_total`"
   ]
  },
  {
   "cell_type": "markdown",
   "metadata": {},
   "source": [
    "#### 👇 Tasks\n",
    "\n",
    "- ✔️ We will provide you the code for this one."
   ]
  },
  {
   "cell_type": "markdown",
   "metadata": {},
   "source": [
    "▶️ Run `df.plot.scatter(x='trip_total', y='trip_seconds')` in the code cell below."
   ]
  },
  {
   "cell_type": "code",
   "execution_count": null,
   "metadata": {},
   "outputs": [],
   "source": [
    "# YOUR CODE BEGINS\n",
    "\n",
    "# YOUR CODE ENDS"
   ]
  },
  {
   "cell_type": "markdown",
   "metadata": {},
   "source": [
    "---\n",
    "\n",
    "### 🎯 Part 7B: ✏️ Interpret the scatter plot of all trips"
   ]
  },
  {
   "cell_type": "markdown",
   "metadata": {},
   "source": [
    "#### 👇 Tasks\n",
    "\n",
    "- ✔️ In less than 3 sentences, explain whether you can clearly identify a positive correlation between `trip_total` and `trip_seconds` based on the scatter plot in Part 7A."
   ]
  },
  {
   "cell_type": "markdown",
   "metadata": {},
   "source": [
    "<p style=\"color: blue;\">\n",
    "YOUR RESPONSE HERE\n",
    "</p>"
   ]
  },
  {
   "cell_type": "markdown",
   "metadata": {
    "deletable": false,
    "editable": false
   },
   "source": [
    "---\n",
    "\n",
    "### 🎯 Part 7C: Scatter plot with cutoffs"
   ]
  },
  {
   "cell_type": "markdown",
   "metadata": {},
   "source": [
    "#### 👇 Tasks\n",
    "\n",
    "- ✔️ Similar to Part 7A, draw a scatter plot.\n",
    "- ✔️ This time, only include trips with `trip_seconds < 1200` **and** `trip_total < 40`."
   ]
  },
  {
   "cell_type": "code",
   "execution_count": null,
   "metadata": {},
   "outputs": [],
   "source": [
    "# YOUR CODE BEGINS\n",
    "\n",
    "# YOUR CODE ENDS"
   ]
  },
  {
   "cell_type": "markdown",
   "metadata": {},
   "source": [
    "---\n",
    "\n",
    "### 🎯 Part 7D: Create a filtered `DataFrame`"
   ]
  },
  {
   "cell_type": "markdown",
   "metadata": {},
   "source": [
    "#### 👇 Tasks\n",
    "\n",
    "- ✔️ Using `df`, only select rows where all four conditions below are satisfied:\n",
    "    - `trip_total > 3`\n",
    "    - `trip_total < 75`\n",
    "    - `trip_seconds > 59`\n",
    "    - `trip_seconds < 3600`\n",
    "- ✔️ Store the filtered `DataFrame` to a new variable named `df_final`. "
   ]
  },
  {
   "cell_type": "code",
   "execution_count": null,
   "metadata": {},
   "outputs": [],
   "source": [
    "# YOUR CODE BEGINS\n",
    "\n",
    "\n",
    "# YOUR CODE ENDS\n",
    "\n",
    "df_final.head(3)"
   ]
  },
  {
   "cell_type": "markdown",
   "metadata": {},
   "source": [
    "#### 🧭 Check Your Work\n",
    "\n",
    "- Once you're done, run the code cell below to test correctness.\n",
    "- ✔️ <span style=\"color: green;\">If the code cell runs without an error, you're good to move on.</span>\n",
    "- ❌ <span style=\"color: red;\">If the code cell throws an error, go back and fix incorrect parts.</span>"
   ]
  },
  {
   "cell_type": "code",
   "execution_count": null,
   "metadata": {},
   "outputs": [],
   "source": [
    "# Check number of rows and columns\n",
    "tc.assertEqual(df_final.shape[0], 467757, 'Incorrect number of rows')\n",
    "\n",
    "# Check missing columns\n",
    "cols_to_check = ['trip_id', 'taxi_id', 'fare', 'tolls', 'extras', 'tips', 'trip_total', 'payment_type',\n",
    "    'trip_seconds', 'trip_miles', 'pickup_community_area', 'dropoff_community_area', 'pickup_centroid_latitude',\n",
    "    'pickup_centroid_longitude', 'dropoff_centroid_latitude', 'dropoff_centroid_longitude', 'company',\n",
    "    'trip_start', 'trip_end', 'month', 'day', 'hour', 'dayofweek']\n",
    "\n",
    "for col_name in cols_to_check:\n",
    "    tc.assertIn(col_name, df_final.columns, f'Column {col_name} is missing')\n",
    "    \n",
    "# Check redundant columns\n",
    "cols_diff = set(df_final.columns) - set(cols_to_check)\n",
    "tc.assertFalse(bool(cols_diff), f\"Redundant columns found: {', '.join(cols_diff)}\")"
   ]
  },
  {
   "cell_type": "markdown",
   "metadata": {},
   "source": [
    "---\n",
    "\n",
    "### 🎯 Part 7E: Save `df_final` to CSV for further analysis"
   ]
  },
  {
   "cell_type": "markdown",
   "metadata": {},
   "source": [
    "▶️ Run the code cell below to save your `df_final` to `taxi-trips-2020-cleaned.csv` (in the same folder as this Jupyter notebook)."
   ]
  },
  {
   "cell_type": "code",
   "execution_count": null,
   "metadata": {},
   "outputs": [],
   "source": [
    "fname = 'taxi-trips-2020-cleaned.csv'\n",
    "df_final.to_csv(fname, index=None)\n",
    "\n",
    "print(f'Successfully saved {fname} to {os.getcwd()}')"
   ]
  },
  {
   "cell_type": "markdown",
   "metadata": {},
   "source": [
    "⚠️ **Note**: You will not submit `taxi-trips-2020-cleaned.csv`. You will load it in Tableau for visualizations in the next part."
   ]
  },
  {
   "cell_type": "markdown",
   "metadata": {},
   "source": [
    "<div style=\"margin-top: 16px; height: 1px; border-top: 10px solid black;\"></div>\n",
    "\n",
    "## 💎 Part 8: Descriptive Analytics using Tableau"
   ]
  },
  {
   "cell_type": "markdown",
   "metadata": {},
   "source": [
    "---\n",
    "\n",
    "Let’s take our first steps to understanding what the data is telling us. There are many ways to do descriptive analytics. For example, we could use groupby and pivot tables in Pandas. One popular method is to visualize the data. Again, we could do this in Python. However, one popular tool for visualization is Tableau. Let’s use Tableau to visualize some of the basic features of our data. "
   ]
  },
  {
   "cell_type": "markdown",
   "metadata": {},
   "source": [
    "---\n",
    "\n",
    "### 🎯 Part 8A: Open `taxi-trips-2020-cleaned.csv` in Tableau."
   ]
  },
  {
   "cell_type": "markdown",
   "metadata": {},
   "source": [
    "![tableau task](https://github.com/accy575-uiuc/images/blob/main/yellow-cab-case/tableau-task-marker-01.jpg?raw=true)"
   ]
  },
  {
   "cell_type": "markdown",
   "metadata": {},
   "source": [
    "#### 👇 Tasks\n",
    "\n",
    "- ✔️ Open Tableau and connect to the `taxi-trips-2020-cleaned.csv` file you've created in Part 7E."
   ]
  },
  {
   "cell_type": "markdown",
   "metadata": {},
   "source": [
    "![example](https://github.com/accy575-uiuc/images/blob/main/yellow-cab-case/tableau-8a-example.png?raw=true)"
   ]
  },
  {
   "cell_type": "markdown",
   "metadata": {},
   "source": [
    "---\n",
    "\n",
    "### 🎯 Part 8B: 📊 Number of trips by month"
   ]
  },
  {
   "cell_type": "markdown",
   "metadata": {},
   "source": [
    "![tableau task](https://github.com/accy575-uiuc/images/blob/main/yellow-cab-case/tableau-task-marker-01.jpg?raw=true)"
   ]
  },
  {
   "cell_type": "markdown",
   "metadata": {},
   "source": [
    "#### 👇 Tasks\n",
    "\n",
    "- ✔️ In a new sheet named `8B`, create a bar graph for the number of trips by month.\n",
    "- ✔️ Using a caption on the same sheet, describe what you see and learn."
   ]
  },
  {
   "cell_type": "markdown",
   "metadata": {},
   "source": [
    "![example](https://github.com/accy575-uiuc/images/blob/main/yellow-cab-case/tableau-8b-example.png?raw=true)"
   ]
  },
  {
   "cell_type": "markdown",
   "metadata": {},
   "source": [
    "---\n",
    "\n",
    "### 🎯 Part 8C: 📊 Number of trips by the day of the month"
   ]
  },
  {
   "cell_type": "markdown",
   "metadata": {},
   "source": [
    "![tableau task](https://github.com/accy575-uiuc/images/blob/main/yellow-cab-case/tableau-task-marker-01.jpg?raw=true)"
   ]
  },
  {
   "cell_type": "markdown",
   "metadata": {},
   "source": [
    "#### 👇 Tasks\n",
    "\n",
    "- ✔️ In a new sheet named `8C`, create a bar graph for the number of trips by the day of the month.\n",
    "- ✔️ Using a caption on the same sheet, describe what you see and learn."
   ]
  },
  {
   "cell_type": "markdown",
   "metadata": {},
   "source": [
    "![example](https://github.com/accy575-uiuc/images/blob/main/yellow-cab-case/tableau-8c-example.png?raw=true)"
   ]
  },
  {
   "cell_type": "markdown",
   "metadata": {},
   "source": [
    "---\n",
    "\n",
    "### 🎯 Part 8D: 📊 Number of trips by the day of the week"
   ]
  },
  {
   "cell_type": "markdown",
   "metadata": {},
   "source": [
    "![tableau task](https://github.com/accy575-uiuc/images/blob/main/yellow-cab-case/tableau-task-marker-01.jpg?raw=true)"
   ]
  },
  {
   "cell_type": "markdown",
   "metadata": {},
   "source": [
    "#### 👇 Tasks\n",
    "\n",
    "- ✔️ In a new sheet named `8D`, create a bar graph for the number of trips by the day of the week.\n",
    "- ✔️ **Add an \"Average with 95% Cl\" line.**\n",
    "- ✔️ Using a caption on the same sheet, answer the questions below using 1 or 2 sentences each.\n",
    "    1. What is the average?\n",
    "    2. What does this line mean?\n",
    "    3. Which days of the week have statistically lower or higher number of trips?"
   ]
  },
  {
   "cell_type": "markdown",
   "metadata": {},
   "source": [
    "![example](https://github.com/accy575-uiuc/images/blob/main/yellow-cab-case/tableau-8d-example.png?raw=true)"
   ]
  },
  {
   "cell_type": "markdown",
   "metadata": {},
   "source": [
    "---\n",
    "\n",
    "### 🎯 Part 8E: 📊 Number of trips by the hour of the day"
   ]
  },
  {
   "cell_type": "markdown",
   "metadata": {},
   "source": [
    "![tableau task](https://github.com/accy575-uiuc/images/blob/main/yellow-cab-case/tableau-task-marker-01.jpg?raw=true)"
   ]
  },
  {
   "cell_type": "markdown",
   "metadata": {},
   "source": [
    "#### 👇 Tasks\n",
    "\n",
    "- ✔️ In a new sheet named `8E`, create a bar graph for the number of trips by the hour of the day.\n",
    "- ✔️ **Show the label (amount) for only the lowest and highest hour.**\n",
    "- ✔️ Using a caption on that same sheet, describe what you see and learn."
   ]
  },
  {
   "cell_type": "markdown",
   "metadata": {},
   "source": [
    "![example](https://github.com/accy575-uiuc/images/blob/main/yellow-cab-case/tableau-8e-example.png?raw=true)"
   ]
  },
  {
   "cell_type": "markdown",
   "metadata": {},
   "source": [
    "---\n",
    "\n",
    "### 🎯 Part 8F: 📊 Number of trips by the hour of the day on weekends only"
   ]
  },
  {
   "cell_type": "markdown",
   "metadata": {},
   "source": [
    "![tableau task](https://github.com/accy575-uiuc/images/blob/main/yellow-cab-case/tableau-task-marker-01.jpg?raw=true)"
   ]
  },
  {
   "cell_type": "markdown",
   "metadata": {},
   "source": [
    "#### 👇 Tasks\n",
    "\n",
    "- ✔️ In a new sheet named `8F`, create three vertical bar graphs for Friday, Saturday and Sunday, respectively.\n",
    "- ✔️ Show the number of trips by hour of the day within each of these three days.\n",
    "- ✔️ You must show your graph in one sheet (you cannot use multiple sheets).\n",
    "- ✔️ Using a caption on that same sheet, describe what you see and learn."
   ]
  },
  {
   "cell_type": "markdown",
   "metadata": {},
   "source": [
    "![example](https://github.com/accy575-uiuc/images/blob/main/yellow-cab-case/tableau-8f-example.png?raw=true)"
   ]
  },
  {
   "cell_type": "markdown",
   "metadata": {},
   "source": [
    "---\n",
    "\n",
    "### 🎯 Part 8G: 📊 Average `trip_total` and `tips` by the day of the week"
   ]
  },
  {
   "cell_type": "markdown",
   "metadata": {},
   "source": [
    "![tableau task](https://github.com/accy575-uiuc/images/blob/main/yellow-cab-case/tableau-task-marker-01.jpg?raw=true)"
   ]
  },
  {
   "cell_type": "markdown",
   "metadata": {},
   "source": [
    "#### 👇 Tasks\n",
    "\n",
    "- ✔️ In a new sheet named `8G`, create a bar graph that shows the average `trip_total` and `tips` by the day of the week. \n",
    "- ✔️ You must show your graph in one sheet (you cannot use multiple sheets).\n",
    "- ✔️ Using a caption on that same sheet, describe what you see and learn."
   ]
  },
  {
   "cell_type": "markdown",
   "metadata": {},
   "source": [
    "![example](https://github.com/accy575-uiuc/images/blob/main/yellow-cab-case/tableau-8g-example.png?raw=true)"
   ]
  },
  {
   "cell_type": "markdown",
   "metadata": {},
   "source": [
    "---\n",
    "\n",
    "### 🎯 Part 8H: 📊 Average `trip_total` and `tips` by hour of the day and by weekend vs weekday"
   ]
  },
  {
   "cell_type": "markdown",
   "metadata": {},
   "source": [
    "![tableau task](https://github.com/accy575-uiuc/images/blob/main/yellow-cab-case/tableau-task-marker-01.jpg?raw=true)"
   ]
  },
  {
   "cell_type": "markdown",
   "metadata": {},
   "source": [
    "#### 👇 Tasks\n",
    "\n",
    "- ✔️ In a new sheet named `8H`, create **any kind of graph** that shows the average `trip_total` and `tips` by hour of the day and by weekend vs weekday.\n",
    "- ✔️ You must show your graph in one sheet (you cannot use multiple sheets).\n",
    "- ✔️ For the rest of this case, assume the weekend consists of Friday, Saturday, and Sunday.\n",
    "- ✔️ Using a caption on that same sheet, describe what you see and learn."
   ]
  },
  {
   "cell_type": "markdown",
   "metadata": {},
   "source": [
    "#### 🚀 Hint\n",
    "\n",
    "You can edit the day of the week directly once you have pulled it into the working area by right clicking on the field or using the drop down menu and selecting \"Edit in Shelf\"."
   ]
  },
  {
   "cell_type": "markdown",
   "metadata": {},
   "source": [
    "![example](https://github.com/accy575-uiuc/images/blob/main/yellow-cab-case/tableau-8h-example.png?raw=true)"
   ]
  },
  {
   "cell_type": "markdown",
   "metadata": {},
   "source": [
    "---\n",
    "\n",
    "### 🎯 Part 8I: 📊 Revenue by payment type"
   ]
  },
  {
   "cell_type": "markdown",
   "metadata": {},
   "source": [
    "![tableau task](https://github.com/accy575-uiuc/images/blob/main/yellow-cab-case/tableau-task-marker-01.jpg?raw=true)"
   ]
  },
  {
   "cell_type": "markdown",
   "metadata": {},
   "source": [
    "#### 👇 Tasks\n",
    "\n",
    "- ✔️ In a new sheet named `8I`, create any kind of graph that shows the average `trip_total` and `tips` by `payment_type`.\n",
    "- ✔️ In this same graph, investigate whether weekend versus weekday matters.\n",
    "- ✔️ In this same graph, add the frequency of each category of transaction.\n",
    "    - Why? It is important to see how often these types of different payments happen.\n",
    "    - For example, `Disputes` actually look pretty profitable, but they probably don't happen very much.\n",
    "- ✔️ You must show your graph in one sheet (you cannot use multiple sheets).\n",
    "- ✔️ Using a caption on that same sheet, describe what you see and learn."
   ]
  },
  {
   "cell_type": "markdown",
   "metadata": {},
   "source": [
    "#### 🚀 Hint\n",
    "\n",
    "Put a count of the transactions in the graph to show frequency of each category."
   ]
  },
  {
   "cell_type": "markdown",
   "metadata": {},
   "source": [
    "![example](https://github.com/accy575-uiuc/images/blob/main/yellow-cab-case/tableau-8i-example.png?raw=true)"
   ]
  },
  {
   "cell_type": "markdown",
   "metadata": {},
   "source": [
    "---\n",
    "\n",
    "### 🎯 Part 8J: 📊 `trip_total` by pickup community area"
   ]
  },
  {
   "cell_type": "markdown",
   "metadata": {},
   "source": [
    "![tableau task](https://github.com/accy575-uiuc/images/blob/main/yellow-cab-case/tableau-task-marker-01.jpg?raw=true)"
   ]
  },
  {
   "cell_type": "markdown",
   "metadata": {},
   "source": [
    "#### 👇 Tasks\n",
    "\n",
    "- ✔️ In a new sheet named `8J`, create a bar graph that shows the average `trip_total` by `pickup_community_area`.\n",
    "- ✔️ Sort this descending by average `trip_total`.\n",
    "- ✔️ Next, exclude null values (null for `pickup_community_area`).\n",
    "- ✔️ You must show your graph in one sheet (you cannot use multiple sheets).\n",
    "- ✔️ Using a caption on that same sheet, describe what you see and learn.\n",
    "- ✔️ Specifically, the `pickup_community_area` numbers are real locations in Chicago.\n",
    "    - Where are the top three locations?\n",
    "    - What do we learn from this?"
   ]
  },
  {
   "cell_type": "markdown",
   "metadata": {},
   "source": [
    "#### 🚀 Hint\n",
    "\n",
    "You can view the exact boundaries of each community area number at [https://data.cityofchicago.org/Facilities-Geographic-Boundaries/Boundaries-Community-Areas-current-/cauq-8yn6](https://data.cityofchicago.org/Facilities-Geographic-Boundaries/Boundaries-Community-Areas-current-/cauq-8yn6) (as shown below)."
   ]
  },
  {
   "cell_type": "markdown",
   "metadata": {},
   "source": [
    "![community area boundary](https://github.com/accy575-uiuc/images/blob/main/yellow-cab-case/community-area-boundaries-01.png?raw=true)"
   ]
  },
  {
   "cell_type": "markdown",
   "metadata": {},
   "source": [
    "![example](https://github.com/accy575-uiuc/images/blob/main/yellow-cab-case/tableau-8j-example.png?raw=true)"
   ]
  },
  {
   "cell_type": "markdown",
   "metadata": {},
   "source": [
    "---\n",
    "\n",
    "### 🎯 Part 8K: 📊 `tips` by pickup community area"
   ]
  },
  {
   "cell_type": "markdown",
   "metadata": {},
   "source": [
    "![tableau task](https://github.com/accy575-uiuc/images/blob/main/yellow-cab-case/tableau-task-marker-01.jpg?raw=true)"
   ]
  },
  {
   "cell_type": "markdown",
   "metadata": {},
   "source": [
    "You will be repeating Part 8J with `tips`."
   ]
  },
  {
   "cell_type": "markdown",
   "metadata": {},
   "source": [
    "#### 👇 Tasks\n",
    "\n",
    "- ✔️ In a new sheet named `8K`, create a bar graph that shows the average `tips` by `pickup_community_area`.\n",
    "- ✔️ Sort this descending by average `tips`.\n",
    "- ✔️ Next, exclude null values (null for `pickup_community_area`).\n",
    "- ✔️ You must show your graph in one sheet (you cannot use multiple sheets).\n",
    "- ✔️ Using a caption on that same sheet, describe what you see and learn.\n",
    "- ✔️ Specifically, the `pickup_community_area` numbers are real locations in Chicago.\n",
    "    - Where are the top three locations?\n",
    "    - What do we learn from this?"
   ]
  },
  {
   "cell_type": "markdown",
   "metadata": {},
   "source": [
    "![example](https://github.com/accy575-uiuc/images/blob/main/yellow-cab-case/tableau-8k-example.png?raw=true)"
   ]
  },
  {
   "cell_type": "markdown",
   "metadata": {},
   "source": [
    "---\n",
    "\n",
    "### 🎯 Part 8L: 🗺️ Average `trip_total` and `tips` by lat/lng"
   ]
  },
  {
   "cell_type": "markdown",
   "metadata": {},
   "source": [
    "![tableau task](https://github.com/accy575-uiuc/images/blob/main/yellow-cab-case/tableau-task-marker-01.jpg?raw=true)"
   ]
  },
  {
   "cell_type": "markdown",
   "metadata": {},
   "source": [
    "#### 👇 Tasks\n",
    "\n",
    "- ✔️ In a new sheet named `8L`, use `pickup_centroid_longitude` and `pickup_centroid_latitude` to examine average `trip_total` and `tips` on a map.\n",
    "- ✔️ You must show your graph in one sheet (you cannot use multiple sheets).\n",
    "- ✔️ Using a caption on that same sheet, describe what you see and learn."
   ]
  },
  {
   "cell_type": "markdown",
   "metadata": {},
   "source": [
    "#### 🚀 Hint\n",
    "\n",
    "Move average `trip_total` and `tips` to color and size on the Marks area."
   ]
  },
  {
   "cell_type": "markdown",
   "metadata": {},
   "source": [
    "![example](https://github.com/accy575-uiuc/images/blob/main/yellow-cab-case/tableau-8l-example.png?raw=true)"
   ]
  },
  {
   "cell_type": "markdown",
   "metadata": {},
   "source": [
    "---\n",
    "\n",
    "### 🎯 Part 8M: 🗺️ Average `trip_total` and `tips` by lat/lng with extra layer(s)"
   ]
  },
  {
   "cell_type": "markdown",
   "metadata": {},
   "source": [
    "![tableau task](https://github.com/accy575-uiuc/images/blob/main/yellow-cab-case/tableau-task-marker-01.jpg?raw=true)"
   ]
  },
  {
   "cell_type": "markdown",
   "metadata": {},
   "source": [
    "#### 👇 Tasks\n",
    "\n",
    "- ✔️ Duplicate the Sheet you just finished in Part 8L and rename the sheet to `8M`.\n",
    "- ✔️ Add a filter for `hour` and `day of the week`.\n",
    "- ✔️ Toggle through these several times (looking at different hour and day of week combinations) to see what else you can learn.\n",
    "- ✔️ Add a \"Map Data Layer\". Pick one that helps you learn more about what is going on.\n",
    "- ✔️ You must show your graph in one sheet (you cannot use multiple sheets).\n",
    "- ✔️ Using a caption on that same sheet, describe what you see and learn."
   ]
  },
  {
   "cell_type": "markdown",
   "metadata": {},
   "source": [
    "![example](https://github.com/accy575-uiuc/images/blob/main/yellow-cab-case/tableau-8m-example.png?raw=true)"
   ]
  },
  {
   "cell_type": "markdown",
   "metadata": {},
   "source": [
    "<div style=\"margin-top: 16px; height: 1px; border-top: 10px solid black;\"></div>\n",
    "\n",
    "## 📈 Part 9: Predictive Analytics - Regression"
   ]
  },
  {
   "cell_type": "markdown",
   "metadata": {},
   "source": [
    "--- \n",
    "\n",
    "We have learned a lot about what affects revenue, but we need to make sure these effects we have seen actually matter. That is, are the effects we have examined mere chance, or do they statistically significantly affect revenue? We will use regression to test this premise. You will run two regression analyses in python. There are many ways to do regression in Python. I suggest you pick one you like and stick with it. \n",
    "\n",
    "Run two regressions. The first regression predicts `trip_total` (the dependent variable) using `trip_seconds`, `trip_miles`, `credit`, `hour`, `month`, and `dayofweek`. The variable `credit` will need to be created. This variable takes a `1` if the transaction was on a credit card and a `0` otherwise. The variable is categorical rather than continuous and thus, must be treated as such in the model. That is, you cannot treat this variable as a continuous variable in your regressions. (You could also treat `hour`, `month`, and `dayofweek` as categorical, but they also have a continuous nature, so let’s just leave them as continuous.) For each regression, discuss each significant variable, and what that significant variable tells you (that is, interpret the coefficient). \n"
   ]
  },
  {
   "cell_type": "markdown",
   "metadata": {},
   "source": [
    "---\n",
    "\n",
    "### 🎯 Part 9A: Regression with `trip_total` as the dependent variable"
   ]
  },
  {
   "cell_type": "markdown",
   "metadata": {},
   "source": [
    "#### 👇 Tasks\n",
    "\n",
    "- ✔️ Run the regression discussed above using `trip_total` as the dependent variable.\n",
    "- ✔️ Use `df_final`, not `df`."
   ]
  },
  {
   "cell_type": "code",
   "execution_count": null,
   "metadata": {},
   "outputs": [],
   "source": [
    "# YOUR CODE BEGINS\n",
    "\n",
    "\n",
    "\n",
    "\n",
    "\n",
    "\n",
    "# YOUR CODE ENDS"
   ]
  },
  {
   "cell_type": "markdown",
   "metadata": {},
   "source": [
    "---\n",
    "\n",
    "### 🎯 Part 9B: ✏️ Interpret the regression result"
   ]
  },
  {
   "cell_type": "markdown",
   "metadata": {},
   "source": [
    "#### 👇 Tasks\n",
    "\n",
    "- ✔️ In a paragraph or two, interpret the results from Part 9A.\n",
    "- ✔️ At minimum, interpret the following items:\n",
    "    - R-squared\n",
    "    - Intercept\n",
    "    - Significant/insignificant variables (p-values)\n",
    "    - Categorical vs continuous variables in your model"
   ]
  },
  {
   "cell_type": "markdown",
   "metadata": {},
   "source": [
    "<p style=\"color: blue;\">\n",
    "YOUR RESPONSE HERE\n",
    "</p>"
   ]
  },
  {
   "cell_type": "markdown",
   "metadata": {},
   "source": [
    "---\n",
    "\n",
    "### 🎯 Part 9C: Regression with `tips` as the dependent variable"
   ]
  },
  {
   "cell_type": "markdown",
   "metadata": {},
   "source": [
    "#### 👇 Tasks\n",
    "\n",
    "- ✔️ Run the regression discussed above using `tips` as the dependent variable.\n",
    "- ✔️ Use `df_final`, not `df`."
   ]
  },
  {
   "cell_type": "code",
   "execution_count": null,
   "metadata": {},
   "outputs": [],
   "source": [
    "# YOUR CODE BEGINS\n",
    "\n",
    "\n",
    "# YOUR CODE ENDS"
   ]
  },
  {
   "cell_type": "markdown",
   "metadata": {},
   "source": [
    "---\n",
    "\n",
    "### 🎯 Part 9D: ✏️ Interpret the regression result"
   ]
  },
  {
   "cell_type": "markdown",
   "metadata": {},
   "source": [
    "#### 👇 Tasks\n",
    "\n",
    "- ✔️ In a paragraph or two, interpret the results from Part 9C.\n",
    "- ✔️ At minimum, interpret the following items:\n",
    "    - R-squared\n",
    "    - Intercept\n",
    "    - Significant/insignificant variables (p-values)\n",
    "    - Categorical vs continuous variables in your model"
   ]
  },
  {
   "cell_type": "markdown",
   "metadata": {},
   "source": [
    "<p style=\"color: blue;\">\n",
    "YOUR RESPONSE HERE\n",
    "</p>"
   ]
  },
  {
   "cell_type": "markdown",
   "metadata": {},
   "source": [
    "<div style=\"margin-top: 16px; height: 1px; border-top: 10px solid black;\"></div>\n",
    "\n",
    "## 🧩 Part 10: Recommendation"
   ]
  },
  {
   "cell_type": "markdown",
   "metadata": {},
   "source": [
    "---\n",
    "\n",
    "The analysis we have asked you to do has given you many tools to use in analyzing this data. Using Tableau and/or Python, use descriptive and predictive analytics, as has been modeled above, to make recommendations to your supervisor for the Yellow Cab Company client. \n",
    "\n",
    "<strong style=\"background: red; color: white; \">This portion of the case will be worth a significant part of your grade for this case.</strong>"
   ]
  },
  {
   "cell_type": "markdown",
   "metadata": {},
   "source": [
    "#### 👇 Tasks\n",
    "\n",
    "- ✔️ Give a recommendation to your supervisor for Yellow Cab about how they can maximize their revenue.\n",
    "- ✔️ Make sure this recommendation is supported with analysis and narrative explanation.\n",
    "- ✔️ Good answers will have more than one analysis.\n",
    "- ✔️ Exceptional answers will use descriptive and predictive analyses and both Python and Tableau.\n",
    "- ✔️ Exceptional submission will be clearly worded and convincing, and will have insights not explored above.\n",
    "- ✔️ However, you can expand upon your previous analyses."
   ]
  },
  {
   "cell_type": "markdown",
   "metadata": {},
   "source": [
    "![example](https://github.com/accy575-uiuc/images/blob/main/yellow-cab-case/part-10-example.png?raw=true)"
   ]
  },
  {
   "cell_type": "markdown",
   "metadata": {},
   "source": []
  },
  {
   "cell_type": "markdown",
   "metadata": {},
   "source": [
    "---\n",
    "\n",
    "## 🍸 Submitting your notebook\n"
   ]
  },
  {
   "cell_type": "markdown",
   "metadata": {},
   "source": [
    "There is one final step before exporting the notebook as an `.ipynb` file for submission. You should restart your runtime (kernal) and run all cells from the beginning to ensure that your notebook is structured properly.\n",
    "\n",
    "Go to the **\"Runtime\"** (\"Kernel\" if you're on Jupyter Lab) menu on top. Select **\"Restart and run all\"**. Failing to pass this step may result in significant loss of points since the autograder will fail to run.<br /><br />\n",
    "\n",
    "![image.png](data:image/png;base64,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)"
   ]
  },
  {
   "cell_type": "code",
   "execution_count": null,
   "metadata": {},
   "outputs": [],
   "source": [
    "print('🎯 Restart and run all successful')"
   ]
  }
 ],
 "metadata": {
  "kernelspec": {
   "display_name": "Python 3",
   "language": "python",
   "name": "python3"
  },
  "language_info": {
   "codemirror_mode": {
    "name": "ipython",
    "version": 3
   },
   "file_extension": ".py",
   "mimetype": "text/x-python",
   "name": "python",
   "nbconvert_exporter": "python",
   "pygments_lexer": "ipython3",
   "version": "3.8.3"
  }
 },
 "nbformat": 4,
 "nbformat_minor": 4
}
